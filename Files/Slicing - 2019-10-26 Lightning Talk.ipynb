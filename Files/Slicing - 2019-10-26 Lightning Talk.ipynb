{
 "cells": [
  {
   "cell_type": "markdown",
   "metadata": {},
   "source": [
    "# Slicing\n",
    "### TriPython Lightning Talk 2019-10-24\n",
    "\n",
    "Recently, I was answering a question that involved the conversion of a string into a date. While coding a solution, I was admiring the ease of doing list slicing in Python. Looking for a syntax documentation, I noticed a __slice()__ item in the list of intrinsic functions. I was intrigued and wandered into the forest.\n",
    "\n",
    "First, a brief description of the problem...\n",
    "The data included string _dates_ in the form __yyyymmdd__. The user needed to do some date calculations, so that string needed to be converted into a date object."
   ]
  },
  {
   "cell_type": "code",
   "execution_count": 9,
   "metadata": {},
   "outputs": [
    {
     "name": "stdout",
     "output_type": "stream",
     "text": [
      "explicit slices:\t 2019-10-21\n"
     ]
    }
   ],
   "source": [
    "import datetime\n",
    "\n",
    "sDate = '20191021'\n",
    "dt = datetime.date(int(sDate[0:4]), \n",
    "                   int(sDate[4:6]),\n",
    "                   int(sDate[6:8]))\n",
    "print('explicit slices:\\t', dt)"
   ]
  },
  {
   "cell_type": "markdown",
   "metadata": {},
   "source": [
    "__Ta Daaaaa!__ Problem solved. Time to move on.\n",
    "\n",
    "But what is this __slice()__ function? Can it simplify or enhance my slicing efforts? Time to explore this function.\n",
    "\n",
    "In essence, the __slice()__ function returns an object that is described in a normal slice expression -- the colon-delimited numbers you see in the code above."
   ]
  },
  {
   "cell_type": "code",
   "execution_count": 10,
   "metadata": {},
   "outputs": [
    {
     "name": "stdout",
     "output_type": "stream",
     "text": [
      "slice vars:     \t 2019-10-21\n"
     ]
    }
   ],
   "source": [
    "slcYYYY = slice(0, 4)\n",
    "slcMM = slice(4, 6)\n",
    "slcDD = slice(6, 8)\n",
    "\n",
    "dt = datetime.date(int(sDate[slcYYYY]), \n",
    "                   int(sDate[slcMM]), \n",
    "                   int(sDate[slcDD]))\n",
    "\n",
    "print('slice vars:     \\t', dt)"
   ]
  },
  {
   "cell_type": "markdown",
   "metadata": {},
   "source": [
    "That works as advertised. What if we put slices into a list?"
   ]
  },
  {
   "cell_type": "code",
   "execution_count": 11,
   "metadata": {},
   "outputs": [
    {
     "name": "stdout",
     "output_type": "stream",
     "text": [
      "slice list:     \t 2019-10-21\n"
     ]
    }
   ],
   "source": [
    "slices = []\n",
    "slices.append(slice(0, 4))\n",
    "slices.append(slice(4, 6))\n",
    "slices.append(slice(6, 8))\n",
    "\n",
    "dt = datetime.date(int(sDate[slices[0]]), \n",
    "                   int(sDate[slices[1]]), \n",
    "                   int(sDate[slices[2]]))\n",
    "\n",
    "print('slice list:     \\t', dt)"
   ]
  },
  {
   "cell_type": "markdown",
   "metadata": {},
   "source": [
    "Ok. I hope you can see where I'm going with this - list comprehensions."
   ]
  },
  {
   "cell_type": "code",
   "execution_count": 12,
   "metadata": {},
   "outputs": [
    {
     "name": "stdout",
     "output_type": "stream",
     "text": [
      "list comp:      \t [2019, 10, 21]\n"
     ]
    }
   ],
   "source": [
    "print('list comp:      \\t', [int(sDate[slc]) for slc in slices])"
   ]
  },
  {
   "cell_type": "markdown",
   "metadata": {},
   "source": [
    "But there's a problem :-(\n",
    "The __datetime.date()__ method only accepts three separate parameters, not a list of three values."
   ]
  },
  {
   "cell_type": "code",
   "execution_count": 13,
   "metadata": {},
   "outputs": [
    {
     "name": "stdout",
     "output_type": "stream",
     "text": [
      "\n",
      "Trapped error feeding list comp to date method\n",
      "(<class 'TypeError'>, TypeError('an integer is required (got type list)'), <traceback object at 0x00000000051D3F08>) \n",
      "\n"
     ]
    }
   ],
   "source": [
    "import sys\n",
    "\n",
    "try:\n",
    "    print(datetime.date([int(sDate[slc]) for slc in slices]))\n",
    "except Exception:\n",
    "    print('\\nTrapped error feeding list comp to date method')\n",
    "    print(sys.exc_info(), '\\n')\n",
    "    pass"
   ]
  },
  {
   "cell_type": "markdown",
   "metadata": {},
   "source": [
    "This is where the `*` operator can help by unfolding the values in the list comprehension. Many thanks to Chris Calloway for expanding my understanding of this operator."
   ]
  },
  {
   "cell_type": "code",
   "execution_count": 14,
   "metadata": {},
   "outputs": [
    {
     "name": "stdout",
     "output_type": "stream",
     "text": [
      "slice comp:      \t 2019-10-21\n"
     ]
    }
   ],
   "source": [
    "dt = datetime.date(*[int(sDate[slc]) for slc in slices]) \n",
    "print('slice comp:      \\t', dt)"
   ]
  },
  {
   "cell_type": "markdown",
   "metadata": {},
   "source": [
    "In case you're wondering...yes, we can parse the date with the regular expression object.\n",
    "\n",
    "Did you really think I'd pass up an opportunity to use regular expressions?!? (scoff)"
   ]
  },
  {
   "cell_type": "code",
   "execution_count": 15,
   "metadata": {},
   "outputs": [
    {
     "name": "stdout",
     "output_type": "stream",
     "text": [
      "regex parse:      \t 2019-10-21\n"
     ]
    }
   ],
   "source": [
    "import re\n",
    "dateParse = re.compile(r'^(\\d{4})(\\d\\d)(\\d\\d)$')\n",
    "\n",
    "dt = datetime.date(*[int(grp) for grp in dateParse.match(sDate).groups()])\n",
    "print('regex parse:      \\t', dt)"
   ]
  },
  {
   "cell_type": "markdown",
   "metadata": {},
   "source": [
    "## Benefits?\n",
    "* The individual explicit list slicing is the most common. If you used this method, your code would be understood by almost every Pythonista.\n",
    "\n",
    "* I find the slice variables to be a bit more self documenting than the explicit slices.\n",
    "\n",
    "* Just because we can put slices into an array doesn't mean that the result is any more readable, as we see in the individually indexed items example.\n",
    "\n",
    "* However, we __can__ use Pickle to persist the list.\n",
    "\n",
    "* I really like list comprehensions.\n",
    "\n",
    "* Yaay regular expressions.\n",
    "\n",
    "### What about performance?\n",
    "Maybe there is a difference after all. Let's do a performance test.\n",
    "\n",
    "As you can see below, the __slice vars__ method is a slight performance winner in addition to being self-documenting code.\n",
    "\n",
    "Rounding out the top three are __slice list__ and __explicit slices__ methods.\n",
    "\n",
    "Even though I like list comprehensions, this is 34% slower than __explicit slices__.\n",
    "\n",
    "Regular expressions came in last, 135% slower than __explicit slices__. Better luck next time, buddy."
   ]
  },
  {
   "cell_type": "code",
   "execution_count": 16,
   "metadata": {
    "scrolled": true
   },
   "outputs": [
    {
     "name": "stdout",
     "output_type": "stream",
     "text": [
      "explicit slices:\t 1.756222895999997\n",
      "slice vars:     \t 1.6637307800000372\n",
      "slice list:     \t 1.7781692609999595\n",
      "slice comp:     \t 2.460540030999937\n",
      "regex parse:     \t 4.215280518999975\n"
     ]
    }
   ],
   "source": [
    "import timeit\n",
    "\n",
    "t = timeit.timeit(\"datetime.date(int(sDate[0:4]),int(sDate[4:6]),int(sDate[6:8]))\", \n",
    "              setup=\"import datetime; sDate = '20191021'\"\n",
    "             )\n",
    "print('explicit slices:\\t', t)\n",
    "\n",
    "#=========================================\n",
    "t = timeit.timeit(\"datetime.date(int(sDate[slcYYYY]),int(sDate[slcMM]),int(sDate[slcDD]))\", \n",
    "    setup=\"\"\"\n",
    "import datetime\n",
    "sDate = '20191021'\n",
    "slcYYYY = slice(0, 4)\n",
    "slcMM = slice(4, 6)\n",
    "slcDD = slice(6, 8)\n",
    "\"\"\"\n",
    "             )\n",
    "print('slice vars:     \\t', t)\n",
    "\n",
    "#=========================================\n",
    "t = timeit.timeit(\"datetime.date(int(sDate[slices[0]]),int(sDate[slices[1]]),int(sDate[slices[2]]))\", \n",
    "    setup=\"\"\"\n",
    "import datetime\n",
    "sDate = '20191021'\n",
    "slices = []\n",
    "slices.append(slice(0, 4))\n",
    "slices.append(slice(4, 6))\n",
    "slices.append(slice(6, 8))\n",
    "\"\"\"\n",
    "             )\n",
    "print('slice list:     \\t', t)\n",
    "\n",
    "#=========================================\n",
    "t = timeit.timeit(\"datetime.date(*[int(sDate[slc]) for slc in slices])\", \n",
    "    setup=\"\"\"\n",
    "import datetime\n",
    "sDate = '20191021'\n",
    "slices = []\n",
    "slices.append(slice(0, 4))\n",
    "slices.append(slice(4, 6))\n",
    "slices.append(slice(6, 8))\n",
    "\"\"\"\n",
    "             )\n",
    "print('slice comp:     \\t', t)\n",
    "\n",
    "#=========================================\n",
    "t = timeit.timeit(\"datetime.date(*[int(grp) for grp in dateParse.match(sDate).groups()])\", \n",
    "    setup=\"\"\"\n",
    "import datetime\n",
    "import re\n",
    "sDate = '20191021'\n",
    "dateParse = re.compile(r'^(\\d{4})(\\d\\d)(\\d\\d)$')\n",
    "\"\"\"\n",
    "             )\n",
    "print('regex parse:     \\t', t)\n"
   ]
  }
 ],
 "metadata": {
  "kernelspec": {
   "display_name": "Python 3",
   "language": "python",
   "name": "python3"
  },
  "language_info": {
   "codemirror_mode": {
    "name": "ipython",
    "version": 3
   },
   "file_extension": ".py",
   "mimetype": "text/x-python",
   "name": "python",
   "nbconvert_exporter": "python",
   "pygments_lexer": "ipython3",
   "version": "3.7.4"
  }
 },
 "nbformat": 4,
 "nbformat_minor": 2
}
